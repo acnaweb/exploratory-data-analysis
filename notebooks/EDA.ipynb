{
 "cells": [
  {
   "cell_type": "markdown",
   "id": "d5945aea-e4a0-4c21-88f3-fbc1d34c35f1",
   "metadata": {},
   "source": [
    "# Análise Exploratória de Dados \n",
    "## (Exploratory Data Analysis (EDA))\n",
    "\n",
    "* Curso: https://www.udemy.com/course/analise-dados-python"
   ]
  },
  {
   "cell_type": "markdown",
   "id": "6840d571-3d39-4189-8334-8d3dad8a2dba",
   "metadata": {},
   "source": [
    "### 1 - Análise Preliminar\n",
    "#### 1.1 - Pandas Profile"
   ]
  },
  {
   "cell_type": "markdown",
   "id": "f34eda39-0c79-421d-836a-83f9a3f0f955",
   "metadata": {},
   "source": [
    "### 2 - Data Cleanning (Limpeza de dados)"
   ]
  },
  {
   "cell_type": "markdown",
   "id": "c1fe803f-599f-4da1-a58e-a0aa331d8cdb",
   "metadata": {},
   "source": [
    "### 3 - Data Fusion (Mescla de dados)"
   ]
  },
  {
   "cell_type": "markdown",
   "id": "ce53f300-e87f-4790-9ac8-fba78012eb28",
   "metadata": {},
   "source": [
    "### 4 - Feature Engineering (Geração de novas informações)"
   ]
  },
  {
   "cell_type": "markdown",
   "id": "5bf1a899-84e5-4be1-9fab-5d8911fb3cd1",
   "metadata": {},
   "source": [
    "### 5 - Visualização e Interação com dados"
   ]
  },
  {
   "cell_type": "markdown",
   "id": "44d2ae54-b1a9-484d-bbb6-89e1e82f9ba1",
   "metadata": {},
   "source": [
    "### Criar modelos de Machine Learning"
   ]
  }
 ],
 "metadata": {
  "kernelspec": {
   "display_name": "Python 3 (ipykernel)",
   "language": "python",
   "name": "python3"
  },
  "language_info": {
   "codemirror_mode": {
    "name": "ipython",
    "version": 3
   },
   "file_extension": ".py",
   "mimetype": "text/x-python",
   "name": "python",
   "nbconvert_exporter": "python",
   "pygments_lexer": "ipython3",
   "version": "3.10.12"
  }
 },
 "nbformat": 4,
 "nbformat_minor": 5
}
