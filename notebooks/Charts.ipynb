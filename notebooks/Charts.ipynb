{
 "cells": [
  {
   "cell_type": "markdown",
   "id": "7a9322bd-bb11-4f1e-8db2-7c3db918554f",
   "metadata": {},
   "source": [
    "## Charts"
   ]
  },
  {
   "cell_type": "code",
   "execution_count": 1,
   "id": "7cf0d532-50b4-42d3-9a77-553a5cc75f4f",
   "metadata": {},
   "outputs": [],
   "source": [
    "### Boxplot"
   ]
  }
 ],
 "metadata": {
  "kernelspec": {
   "display_name": "Python 3 (ipykernel)",
   "language": "python",
   "name": "python3"
  },
  "language_info": {
   "codemirror_mode": {
    "name": "ipython",
    "version": 3
   },
   "file_extension": ".py",
   "mimetype": "text/x-python",
   "name": "python",
   "nbconvert_exporter": "python",
   "pygments_lexer": "ipython3",
   "version": "3.10.12"
  }
 },
 "nbformat": 4,
 "nbformat_minor": 5
}
